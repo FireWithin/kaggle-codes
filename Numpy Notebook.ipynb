{
 "cells": [
  {
   "cell_type": "markdown",
   "metadata": {},
   "source": [
    "# NumPy"
   ]
  },
  {
   "cell_type": "markdown",
   "metadata": {},
   "source": [
    "#### NumPy is the core library for scientic computing in Python."
   ]
  },
  {
   "cell_type": "markdown",
   "metadata": {},
   "source": [
    "First, we import numpy as follows."
   ]
  },
  {
   "cell_type": "code",
   "execution_count": 1,
   "metadata": {
    "collapsed": true
   },
   "outputs": [],
   "source": [
    "import numpy as np"
   ]
  },
  {
   "cell_type": "markdown",
   "metadata": {},
   "source": [
    "### Basic Operations"
   ]
  },
  {
   "cell_type": "code",
   "execution_count": 2,
   "metadata": {
    "collapsed": false
   },
   "outputs": [
    {
     "name": "stdout",
     "output_type": "stream",
     "text": [
      "<class 'numpy.ndarray'>\n",
      "(3,)\n",
      "1 2 3\n",
      "[1 2 3]\n"
     ]
    }
   ],
   "source": [
    "a = np.array([1, 2, 3])\n",
    "print(type(a))\n",
    "print(a.shape)           # .shape returns a tuple (rows, columns)\n",
    "print(a[0], a[1], a[2])  \n",
    "print(a)"
   ]
  },
  {
   "cell_type": "code",
   "execution_count": 3,
   "metadata": {
    "collapsed": false
   },
   "outputs": [
    {
     "name": "stdout",
     "output_type": "stream",
     "text": [
      "<class 'numpy.ndarray'>\n",
      "(2, 3)\n",
      "2 5\n",
      "[[1 2 3]\n",
      " [4 5 6]]\n"
     ]
    }
   ],
   "source": [
    "b = np.array([[1, 2, 3], [4, 5, 6]])\n",
    "print(type(b))\n",
    "print(b.shape)\n",
    "print(b[0,1], b[1,1])  # accessing elements in multidimensional arrays\n",
    "print(b)"
   ]
  },
  {
   "cell_type": "markdown",
   "metadata": {},
   "source": [
    "__Creating Arrays__"
   ]
  },
  {
   "cell_type": "code",
   "execution_count": 4,
   "metadata": {
    "collapsed": false
   },
   "outputs": [
    {
     "name": "stdout",
     "output_type": "stream",
     "text": [
      "[[4 5]\n",
      " [7 3]]\n",
      "[[ 0.  0.]\n",
      " [ 0.  0.]\n",
      " [ 0.  0.]]\n",
      "[[ 1.  1.]\n",
      " [ 1.  1.]\n",
      " [ 1.  1.]]\n",
      "[[ 1.  0.]\n",
      " [ 0.  1.]]\n",
      "[[ 0.57753741  0.15741501]\n",
      " [ 0.1355942   0.21554478]]\n"
     ]
    }
   ],
   "source": [
    "a = np.array([[4,5],[7,3]])\n",
    "print(a)\n",
    "b = np.zeros((3,2))      # zero 3 x 2\n",
    "print(b)\n",
    "c = np.ones((3,2))       # ones 3 x 2\n",
    "print(c)\n",
    "d = np.eye(2)            # identity 2 x 2\n",
    "print(d)\n",
    "e = np.random.random((2,2))\n",
    "print(e)"
   ]
  },
  {
   "cell_type": "markdown",
   "metadata": {},
   "source": [
    "### Slicing and Indexing"
   ]
  },
  {
   "cell_type": "markdown",
   "metadata": {},
   "source": [
    "Let's try slicing on the following np.array"
   ]
  },
  {
   "cell_type": "code",
   "execution_count": 5,
   "metadata": {
    "collapsed": false
   },
   "outputs": [],
   "source": [
    "a = np.array([[1,2,3,4], [5,6,7,8], [9,10,11,12]])"
   ]
  },
  {
   "cell_type": "markdown",
   "metadata": {},
   "source": [
    "Slicing the first 2 rows and columns 1 and 2 (zero indexed)"
   ]
  },
  {
   "cell_type": "code",
   "execution_count": 6,
   "metadata": {
    "collapsed": false
   },
   "outputs": [
    {
     "name": "stdout",
     "output_type": "stream",
     "text": [
      "[[2 3]\n",
      " [6 7]]\n"
     ]
    }
   ],
   "source": [
    "b = a[:2, 1:3]\n",
    "print(b)"
   ]
  },
  {
   "cell_type": "markdown",
   "metadata": {},
   "source": [
    "Slicing the first 2 rows and taking all columns"
   ]
  },
  {
   "cell_type": "code",
   "execution_count": 7,
   "metadata": {
    "collapsed": false
   },
   "outputs": [
    {
     "name": "stdout",
     "output_type": "stream",
     "text": [
      "[[1 2 3 4]\n",
      " [5 6 7 8]]\n"
     ]
    }
   ],
   "source": [
    "c = a[:2,:] # a[:2,] also works\n",
    "print(c)"
   ]
  },
  {
   "cell_type": "markdown",
   "metadata": {},
   "source": [
    "Taking the whole array a"
   ]
  },
  {
   "cell_type": "code",
   "execution_count": 8,
   "metadata": {
    "collapsed": false
   },
   "outputs": [
    {
     "name": "stdout",
     "output_type": "stream",
     "text": [
      "[[ 1  2  3  4]\n",
      " [ 5  6  7  8]\n",
      " [ 9 10 11 12]]\n"
     ]
    }
   ],
   "source": [
    "d = a # a[:,:] also works \n",
    "print(d)"
   ]
  },
  {
   "cell_type": "markdown",
   "metadata": {},
   "source": [
    "__Note__ : Slicing does not make a new array but instead provides a view to the original array"
   ]
  },
  {
   "cell_type": "code",
   "execution_count": 9,
   "metadata": {
    "collapsed": false
   },
   "outputs": [
    {
     "name": "stdout",
     "output_type": "stream",
     "text": [
      "1 1\n",
      "2 2\n"
     ]
    }
   ],
   "source": [
    "# when d is changed, a is also changed\n",
    "print(d[0,0], a[0,0])\n",
    "d[0,0] = 2\n",
    "print(d[0,0], a[0,0])"
   ]
  },
  {
   "cell_type": "code",
   "execution_count": 10,
   "metadata": {
    "collapsed": false
   },
   "outputs": [
    {
     "name": "stdout",
     "output_type": "stream",
     "text": [
      "2 2\n",
      "42 42\n",
      "1 1\n"
     ]
    }
   ],
   "source": [
    "# since b corresponds to the first two rows and columns 1 and 2 of a\n",
    "# indexing changes but they are views of same data\n",
    "print(b[0,0], a[0,1])\n",
    "b[0,0] = 42\n",
    "print(b[0,0], a[0,1])\n",
    "a[0,1] = 1\n",
    "print(b[0,0], a[0,1])"
   ]
  },
  {
   "cell_type": "markdown",
   "metadata": {},
   "source": [
    "__Integer Indexing with Slicing__"
   ]
  },
  {
   "cell_type": "markdown",
   "metadata": {},
   "source": [
    "Consider the following 2D array"
   ]
  },
  {
   "cell_type": "code",
   "execution_count": 11,
   "metadata": {
    "collapsed": true
   },
   "outputs": [],
   "source": [
    "a = np.array([[1,2,3,4], [5,6,7,8], [9,10,11,12]])"
   ]
  },
  {
   "cell_type": "markdown",
   "metadata": {},
   "source": [
    "It is expected that the following two slicing syntaxes should yield the same result"
   ]
  },
  {
   "cell_type": "code",
   "execution_count": 12,
   "metadata": {
    "collapsed": true
   },
   "outputs": [],
   "source": [
    "b = a[1:2,:]\n",
    "c = a[1,:]"
   ]
  },
  {
   "cell_type": "markdown",
   "metadata": {},
   "source": [
    "But it turns out that __b__ and __c__ are different. __c__ is generated using integer indexing."
   ]
  },
  {
   "cell_type": "code",
   "execution_count": 13,
   "metadata": {
    "collapsed": false
   },
   "outputs": [
    {
     "name": "stdout",
     "output_type": "stream",
     "text": [
      "[[5 6 7 8]] (1, 4)\n",
      "[5 6 7 8] (4,)\n"
     ]
    }
   ],
   "source": [
    "print(b, b.shape)\n",
    "print(c, c.shape)"
   ]
  },
  {
   "cell_type": "markdown",
   "metadata": {},
   "source": [
    "Mixing integer indexing with slices yields an array of lower rank, while using only slices always yields arrays of the same rank as original array."
   ]
  },
  {
   "cell_type": "markdown",
   "metadata": {},
   "source": [
    "Similarly we can try with column vectors."
   ]
  },
  {
   "cell_type": "code",
   "execution_count": 14,
   "metadata": {
    "collapsed": false
   },
   "outputs": [
    {
     "name": "stdout",
     "output_type": "stream",
     "text": [
      "[[ 2]\n",
      " [ 6]\n",
      " [10]] (3, 1)\n",
      "[ 2  6 10] (3,)\n"
     ]
    }
   ],
   "source": [
    "e = a[:,1:2]\n",
    "f = a[:,1]\n",
    "print(e, e.shape)\n",
    "print(f, f.shape)"
   ]
  },
  {
   "cell_type": "markdown",
   "metadata": {},
   "source": [
    "__Using integer array indexing to create arbitrary arrays__"
   ]
  },
  {
   "cell_type": "markdown",
   "metadata": {},
   "source": [
    "When we index numpy arrays using slicing, the resulting array view will always be a subarray of the original array. Integer array indexing allows us to construct arbitrary arrays using data from another array."
   ]
  },
  {
   "cell_type": "markdown",
   "metadata": {},
   "source": [
    "Consider the following np.array"
   ]
  },
  {
   "cell_type": "code",
   "execution_count": 15,
   "metadata": {
    "collapsed": false
   },
   "outputs": [
    {
     "name": "stdout",
     "output_type": "stream",
     "text": [
      "[1 4 5]\n",
      "1 12\n"
     ]
    }
   ],
   "source": [
    "a = np.array([[1,2], [3,4], [5,6]])\n",
    "b = a[[0, 1, 2], [0, 1, 0]]\n",
    "# this takes out elements a[0,0], a[1,1] and a[2,0]\n",
    "# same as np.array([a[0,0], a[1,1], a[2,0]])\n",
    "print(b)\n",
    "b[0] = 12\n",
    "print(a[0,0], b[0])"
   ]
  },
  {
   "cell_type": "markdown",
   "metadata": {},
   "source": [
    "When integer indexing is used, new array is created. Thus modifying one doesn't affect the other."
   ]
  },
  {
   "cell_type": "markdown",
   "metadata": {},
   "source": [
    "__Useful tricks with Integer array indexing__"
   ]
  },
  {
   "cell_type": "markdown",
   "metadata": {},
   "source": [
    "Selecting one element from each row"
   ]
  },
  {
   "cell_type": "code",
   "execution_count": 16,
   "metadata": {
    "collapsed": false
   },
   "outputs": [
    {
     "name": "stdout",
     "output_type": "stream",
     "text": [
      "[1 4 5]\n"
     ]
    }
   ],
   "source": [
    "b = np.array([0, 1, 0])\n",
    "print(a[np.arange(3), b])"
   ]
  },
  {
   "cell_type": "markdown",
   "metadata": {},
   "source": [
    "It prints __a[0,0]__, __a[1,1]__, __a[2,0]__"
   ]
  },
  {
   "cell_type": "markdown",
   "metadata": {},
   "source": [
    "List of indexes can also be used."
   ]
  },
  {
   "cell_type": "code",
   "execution_count": 17,
   "metadata": {
    "collapsed": false
   },
   "outputs": [
    {
     "name": "stdout",
     "output_type": "stream",
     "text": [
      "[1 4 5]\n"
     ]
    }
   ],
   "source": [
    "b = [0, 1, 0]\n",
    "print(a[np.arange(3), b])"
   ]
  },
  {
   "cell_type": "markdown",
   "metadata": {},
   "source": [
    "We can also mutate one element from each row. Let's add 10 to the selected elements."
   ]
  },
  {
   "cell_type": "code",
   "execution_count": 18,
   "metadata": {
    "collapsed": false
   },
   "outputs": [
    {
     "name": "stdout",
     "output_type": "stream",
     "text": [
      "[[11  2]\n",
      " [ 3 14]\n",
      " [15  6]]\n"
     ]
    }
   ],
   "source": [
    "a[np.arange(3),b] += 10\n",
    "print(a)"
   ]
  },
  {
   "cell_type": "markdown",
   "metadata": {},
   "source": [
    "__Boolean array indexing__"
   ]
  },
  {
   "cell_type": "markdown",
   "metadata": {},
   "source": [
    "Let's try boolean indexing on the following np.array"
   ]
  },
  {
   "cell_type": "code",
   "execution_count": 19,
   "metadata": {
    "collapsed": true
   },
   "outputs": [],
   "source": [
    "a = np.array([[1,2,12],[6,8,11]])"
   ]
  },
  {
   "cell_type": "markdown",
   "metadata": {},
   "source": [
    "Now, we will create a boolean np.array, which will store result (true/false) in place of elements when the corresponding elements are fed to some boolean expression."
   ]
  },
  {
   "cell_type": "code",
   "execution_count": 20,
   "metadata": {
    "collapsed": false
   },
   "outputs": [
    {
     "name": "stdout",
     "output_type": "stream",
     "text": [
      "[[False  True  True]\n",
      " [ True  True False]]\n"
     ]
    }
   ],
   "source": [
    "is_even = (a%2 == 0)\n",
    "print(is_even)"
   ]
  },
  {
   "cell_type": "code",
   "execution_count": 21,
   "metadata": {
    "collapsed": false
   },
   "outputs": [
    {
     "name": "stdout",
     "output_type": "stream",
     "text": [
      "[[ True  True False]\n",
      " [ True False False]]\n"
     ]
    }
   ],
   "source": [
    "is_small = (a <= 6)\n",
    "print(is_small)"
   ]
  },
  {
   "cell_type": "markdown",
   "metadata": {},
   "source": [
    "These boolean arrays can be used as sieves to filter out elements with desirable properties. "
   ]
  },
  {
   "cell_type": "markdown",
   "metadata": {},
   "source": [
    "Let's take out all the event elements from __a__ using boolean array __is_even__."
   ]
  },
  {
   "cell_type": "code",
   "execution_count": 22,
   "metadata": {
    "collapsed": false
   },
   "outputs": [
    {
     "name": "stdout",
     "output_type": "stream",
     "text": [
      "[ 2 12  6  8]\n"
     ]
    }
   ],
   "source": [
    "print(a[is_even])"
   ]
  },
  {
   "cell_type": "markdown",
   "metadata": {},
   "source": [
    "all the elements which are greater than 6:"
   ]
  },
  {
   "cell_type": "code",
   "execution_count": 23,
   "metadata": {
    "collapsed": false
   },
   "outputs": [
    {
     "name": "stdout",
     "output_type": "stream",
     "text": [
      "[12  8 11]\n"
     ]
    }
   ],
   "source": [
    "is_big = (is_small == False)\n",
    "print(a[is_big])"
   ]
  },
  {
   "cell_type": "markdown",
   "metadata": {},
   "source": [
    "More examples:"
   ]
  },
  {
   "cell_type": "code",
   "execution_count": 24,
   "metadata": {
    "collapsed": false
   },
   "outputs": [
    {
     "name": "stdout",
     "output_type": "stream",
     "text": [
      "[12  6  8 11]\n",
      "[ 1 11]\n"
     ]
    }
   ],
   "source": [
    "print(a[a > 2]) # all elements greater than 2\n",
    "print(a[a%2 == 1]) # all odd elements"
   ]
  },
  {
   "cell_type": "markdown",
   "metadata": {},
   "source": [
    "### Datatypes in NumPy"
   ]
  },
  {
   "cell_type": "markdown",
   "metadata": {
    "collapsed": true
   },
   "source": [
    "A data type object (numpy.dtype) describes how many bytes in the fixed-size block of memory corresponding to an array item should be interpreted. It describes the type, size, byte order etc. To describe the type of scaler data, there are several built in scaler types in NumPy for various precision of integers, floating point numbers etc. An item extracted from array will be a python object whose type is te scaler type associated with the data type of the array. "
   ]
  },
  {
   "cell_type": "markdown",
   "metadata": {},
   "source": [
    "Numpy also allows _structured_ data types (user defined aggregate of scaler types). The data type object in this case also defines the names of the fields of the structure, by which they can be accessed, the data type of each field and part of memory block each field takes."
   ]
  },
  {
   "cell_type": "markdown",
   "metadata": {},
   "source": [
    "Note: Scaler types are not _dtype_ objects, even though they can be used in place of whenever a data type specification is needed."
   ]
  },
  {
   "cell_type": "markdown",
   "metadata": {},
   "source": [
    "The default data type for numpy arrays is __float\\___ "
   ]
  },
  {
   "cell_type": "code",
   "execution_count": 25,
   "metadata": {
    "collapsed": false
   },
   "outputs": [
    {
     "name": "stdout",
     "output_type": "stream",
     "text": [
      "int32\n",
      "complex128\n",
      "float64\n"
     ]
    }
   ],
   "source": [
    "print(np.dtype(np.int32))\n",
    "print(np.dtype(np.complex128))\n",
    "print(np.dtype(np.float_))"
   ]
  },
  {
   "cell_type": "markdown",
   "metadata": {},
   "source": [
    "__Specifying structured dtypes__"
   ]
  },
  {
   "cell_type": "code",
   "execution_count": 26,
   "metadata": {
    "collapsed": false
   },
   "outputs": [
    {
     "name": "stdout",
     "output_type": "stream",
     "text": [
      "<U16\n",
      "('<f8', (2,))\n"
     ]
    }
   ],
   "source": [
    "dt = np.dtype([('name', np.str_, 16), ('grades', np.float_, (2,))])\n",
    "print(dt['name'])\n",
    "print(dt['grades'])"
   ]
  },
  {
   "cell_type": "markdown",
   "metadata": {},
   "source": [
    "_U_ defines Unicode, _f_ stands for float. "
   ]
  },
  {
   "cell_type": "markdown",
   "metadata": {},
   "source": [
    "__'<'__ denotes little endian, __'>'__ denotes big endian and __'='__ denotes hardware-native (default) byte order."
   ]
  },
  {
   "cell_type": "markdown",
   "metadata": {},
   "source": [
    "<U16 : 16 character unicode string little endian"
   ]
  },
  {
   "cell_type": "markdown",
   "metadata": {},
   "source": [
    "<f8 : 8 byte floating point number little endian"
   ]
  },
  {
   "cell_type": "markdown",
   "metadata": {},
   "source": [
    "(2,) denotes the dimensions"
   ]
  },
  {
   "cell_type": "markdown",
   "metadata": {},
   "source": [
    "__Using structured data types__"
   ]
  },
  {
   "cell_type": "code",
   "execution_count": 27,
   "metadata": {
    "collapsed": true
   },
   "outputs": [],
   "source": [
    "x = np.array([('Dhruv', (9.4, 9.73)), ('Mohan', (8.2, 7.12))], dtype = dt)"
   ]
  },
  {
   "cell_type": "code",
   "execution_count": 28,
   "metadata": {
    "collapsed": false,
    "scrolled": true
   },
   "outputs": [
    {
     "name": "stdout",
     "output_type": "stream",
     "text": [
      "('Dhruv', [9.4, 9.73])\n",
      "[ 9.4   9.73]\n",
      "<class 'numpy.void'>\n",
      "<class 'numpy.ndarray'>\n"
     ]
    }
   ],
   "source": [
    "print(x[0])\n",
    "print(x[0]['grades'])\n",
    "print(type(x[0]))\n",
    "print(type(x[0]['grades']))"
   ]
  },
  {
   "cell_type": "code",
   "execution_count": 29,
   "metadata": {
    "collapsed": false
   },
   "outputs": [
    {
     "name": "stdout",
     "output_type": "stream",
     "text": [
      "int32\n",
      "float64\n",
      "float64\n"
     ]
    }
   ],
   "source": [
    "q = np.array([1,2]) #numpy chooses the data type\n",
    "print(q.dtype)\n",
    "w = np.array([1., 2.])\n",
    "print(w.dtype)\n",
    "r = np.array([1,2], dtype=np.float_) #force another data type\n",
    "print(r.dtype)"
   ]
  },
  {
   "cell_type": "markdown",
   "metadata": {},
   "source": [
    "### Array Math in NumPy"
   ]
  },
  {
   "cell_type": "markdown",
   "metadata": {},
   "source": [
    "Detailed description can be found here: https://docs.scipy.org/doc/numpy/reference/routines.math.html"
   ]
  },
  {
   "cell_type": "code",
   "execution_count": 30,
   "metadata": {
    "collapsed": true
   },
   "outputs": [],
   "source": [
    "x = np.array([[1,2],[3,4]], dtype = np.float64)\n",
    "y = np.array([[5,6],[7,8]], dtype = np.float64)"
   ]
  },
  {
   "cell_type": "markdown",
   "metadata": {},
   "source": [
    "__Elementwise Addition__"
   ]
  },
  {
   "cell_type": "code",
   "execution_count": 31,
   "metadata": {
    "collapsed": false
   },
   "outputs": [
    {
     "name": "stdout",
     "output_type": "stream",
     "text": [
      "[[  6.   8.]\n",
      " [ 10.  12.]]\n",
      "[[  6.   8.]\n",
      " [ 10.  12.]]\n"
     ]
    }
   ],
   "source": [
    "print(x+y) # available as overloaded + operator\n",
    "print(np.add(x,y)) # also available as function"
   ]
  },
  {
   "cell_type": "markdown",
   "metadata": {},
   "source": [
    "__Elementwise Difference__"
   ]
  },
  {
   "cell_type": "code",
   "execution_count": 32,
   "metadata": {
    "collapsed": false
   },
   "outputs": [
    {
     "name": "stdout",
     "output_type": "stream",
     "text": [
      "[[-4. -4.]\n",
      " [-4. -4.]]\n",
      "[[-4. -4.]\n",
      " [-4. -4.]]\n"
     ]
    }
   ],
   "source": [
    "print(x-y)\n",
    "print(np.subtract(x,y))"
   ]
  },
  {
   "cell_type": "markdown",
   "metadata": {},
   "source": [
    "__Elementwise Division__"
   ]
  },
  {
   "cell_type": "code",
   "execution_count": 33,
   "metadata": {
    "collapsed": false
   },
   "outputs": [
    {
     "name": "stdout",
     "output_type": "stream",
     "text": [
      "[[ 0.2         0.33333333]\n",
      " [ 0.42857143  0.5       ]]\n",
      "[[ 0.2         0.33333333]\n",
      " [ 0.42857143  0.5       ]]\n"
     ]
    }
   ],
   "source": [
    "print(x/y)\n",
    "print(np.divide(x,y))"
   ]
  },
  {
   "cell_type": "markdown",
   "metadata": {},
   "source": [
    "__Elementwise Multiplication__"
   ]
  },
  {
   "cell_type": "code",
   "execution_count": 34,
   "metadata": {
    "collapsed": false
   },
   "outputs": [
    {
     "name": "stdout",
     "output_type": "stream",
     "text": [
      "[[  5.  12.]\n",
      " [ 21.  32.]]\n",
      "[[  5.  12.]\n",
      " [ 21.  32.]]\n"
     ]
    }
   ],
   "source": [
    "print(x * y)\n",
    "print(np.multiply(x,y))"
   ]
  },
  {
   "cell_type": "markdown",
   "metadata": {},
   "source": [
    "__Vector Inner Product__"
   ]
  },
  {
   "cell_type": "code",
   "execution_count": 35,
   "metadata": {
    "collapsed": false
   },
   "outputs": [
    {
     "name": "stdout",
     "output_type": "stream",
     "text": [
      "219\n",
      "219\n"
     ]
    }
   ],
   "source": [
    "v = np.array([9,10])\n",
    "w = np.array([11, 12])\n",
    "print(v.dot(w))\n",
    "print(np.dot(v,w))"
   ]
  },
  {
   "cell_type": "markdown",
   "metadata": {},
   "source": [
    "__Matrix Multiplication__"
   ]
  },
  {
   "cell_type": "code",
   "execution_count": 36,
   "metadata": {
    "collapsed": false
   },
   "outputs": [
    {
     "name": "stdout",
     "output_type": "stream",
     "text": [
      "[[ 19.  22.]\n",
      " [ 43.  50.]]\n",
      "[ 29.  67.]\n",
      "[[ 19.  22.]\n",
      " [ 43.  50.]]\n"
     ]
    }
   ],
   "source": [
    "print(x.dot(y))\n",
    "print(x.dot(v))\n",
    "print(np.dot(x,y))"
   ]
  },
  {
   "cell_type": "markdown",
   "metadata": {},
   "source": [
    "__Computations on arrays__"
   ]
  },
  {
   "cell_type": "code",
   "execution_count": 37,
   "metadata": {
    "collapsed": true
   },
   "outputs": [],
   "source": [
    "x = np.array([[1,2], [3,4]])"
   ]
  },
  {
   "cell_type": "code",
   "execution_count": 38,
   "metadata": {
    "collapsed": false
   },
   "outputs": [
    {
     "name": "stdout",
     "output_type": "stream",
     "text": [
      "10\n",
      "[4 6]\n",
      "[3 7]\n",
      "24\n",
      "[3 8]\n",
      "[ 2 12]\n"
     ]
    }
   ],
   "source": [
    "print(np.sum(x))  # sum of all elements in x\n",
    "print(np.sum(x, axis = 0)) # sum of each column\n",
    "print(np.sum(x, axis = 1)) # sum of each row\n",
    "print(np.prod(x)) # product of all elements in x\n",
    "print(np.prod(x, axis = 0)) # product of each column\n",
    "print(np.prod(x, axis = 1)) # product of each row"
   ]
  },
  {
   "cell_type": "code",
   "execution_count": 39,
   "metadata": {
    "collapsed": false
   },
   "outputs": [
    {
     "name": "stdout",
     "output_type": "stream",
     "text": [
      "[[1 2]\n",
      " [3 8]]\n",
      "[[ 1  2]\n",
      " [ 3 12]]\n"
     ]
    }
   ],
   "source": [
    "print(np.cumprod(x, axis = 0)) # cumulative product along column\n",
    "print(np.cumprod(x, axis = 1)) # cumulative product along row"
   ]
  },
  {
   "cell_type": "code",
   "execution_count": 40,
   "metadata": {
    "collapsed": false,
    "scrolled": true
   },
   "outputs": [
    {
     "name": "stdout",
     "output_type": "stream",
     "text": [
      "[[ 0.          0.69314718]\n",
      " [ 1.09861229  1.38629436]]\n",
      "[[-1 -2]\n",
      " [-3 -4]]\n",
      "[[ 1.          1.41421356]\n",
      " [ 1.73205081  2.        ]]\n"
     ]
    }
   ],
   "source": [
    "print(np.log(x)) # elementwise natural logarithm\n",
    "print(np.negative(x)) # elementwise numerical negative\n",
    "print(np.sqrt(x)) # elementwise square root"
   ]
  },
  {
   "cell_type": "markdown",
   "metadata": {},
   "source": [
    "__Transpose of an Array__"
   ]
  },
  {
   "cell_type": "code",
   "execution_count": 41,
   "metadata": {
    "collapsed": false
   },
   "outputs": [
    {
     "name": "stdout",
     "output_type": "stream",
     "text": [
      "[[1 2]\n",
      " [3 4]]\n",
      "[[1 3]\n",
      " [2 4]]\n",
      "[[ 1  2]\n",
      " [12  4]]\n"
     ]
    }
   ],
   "source": [
    "x = np.array([[1,2],[3,4]])\n",
    "print(x)\n",
    "print(x.T) \n",
    "y = x.T # returns view of x as transpose\n",
    "y[0,1] = 12\n",
    "print(x)"
   ]
  },
  {
   "cell_type": "markdown",
   "metadata": {},
   "source": [
    "Transpose of a rank 1 array does nothing."
   ]
  },
  {
   "cell_type": "code",
   "execution_count": null,
   "metadata": {
    "collapsed": true
   },
   "outputs": [],
   "source": []
  }
 ],
 "metadata": {
  "kernelspec": {
   "display_name": "Python 3",
   "language": "python",
   "name": "python3"
  },
  "language_info": {
   "codemirror_mode": {
    "name": "ipython",
    "version": 3
   },
   "file_extension": ".py",
   "mimetype": "text/x-python",
   "name": "python",
   "nbconvert_exporter": "python",
   "pygments_lexer": "ipython3",
   "version": "3.5.1"
  }
 },
 "nbformat": 4,
 "nbformat_minor": 0
}
